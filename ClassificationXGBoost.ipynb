{
  "nbformat": 4,
  "nbformat_minor": 0,
  "metadata": {
    "colab": {
      "name": "Demo1.ipynb",
      "provenance": [],
      "collapsed_sections": []
    },
    "kernelspec": {
      "name": "python3",
      "display_name": "Python 3"
    },
    "language_info": {
      "name": "python"
    }
  },
  "cells": [
    {
      "cell_type": "code",
      "execution_count": 1,
      "metadata": {
        "id": "N2e9K2Qj2vrn",
        "colab": {
          "base_uri": "https://localhost:8080/"
        },
        "outputId": "88252b29-f845-45fb-80a4-2103ca59a5e7"
      },
      "outputs": [
        {
          "output_type": "stream",
          "name": "stdout",
          "text": [
            "Looking in indexes: https://pypi.org/simple, https://us-python.pkg.dev/colab-wheels/public/simple/\n",
            "Requirement already satisfied: xgboost in /usr/local/lib/python3.7/dist-packages (0.90)\n",
            "Requirement already satisfied: numpy in /usr/local/lib/python3.7/dist-packages (from xgboost) (1.21.6)\n",
            "Requirement already satisfied: scipy in /usr/local/lib/python3.7/dist-packages (from xgboost) (1.7.3)\n"
          ]
        }
      ],
      "source": [
        "pip install xgboost"
      ]
    },
    {
      "cell_type": "code",
      "source": [
        "pip install --upgrade xgboost"
      ],
      "metadata": {
        "id": "0867d0V_2xnM",
        "colab": {
          "base_uri": "https://localhost:8080/"
        },
        "outputId": "a36623e5-7b44-4198-e310-e5960aa0762b"
      },
      "execution_count": 2,
      "outputs": [
        {
          "output_type": "stream",
          "name": "stdout",
          "text": [
            "Looking in indexes: https://pypi.org/simple, https://us-python.pkg.dev/colab-wheels/public/simple/\n",
            "Requirement already satisfied: xgboost in /usr/local/lib/python3.7/dist-packages (0.90)\n",
            "Collecting xgboost\n",
            "  Downloading xgboost-1.6.1-py3-none-manylinux2014_x86_64.whl (192.9 MB)\n",
            "\u001b[K     |████████████████████████████████| 192.9 MB 57 kB/s \n",
            "\u001b[?25hRequirement already satisfied: scipy in /usr/local/lib/python3.7/dist-packages (from xgboost) (1.7.3)\n",
            "Requirement already satisfied: numpy in /usr/local/lib/python3.7/dist-packages (from xgboost) (1.21.6)\n",
            "Installing collected packages: xgboost\n",
            "  Attempting uninstall: xgboost\n",
            "    Found existing installation: xgboost 0.90\n",
            "    Uninstalling xgboost-0.90:\n",
            "      Successfully uninstalled xgboost-0.90\n",
            "Successfully installed xgboost-1.6.1\n"
          ]
        }
      ]
    },
    {
      "cell_type": "code",
      "source": [
        "pip install lightgbm"
      ],
      "metadata": {
        "colab": {
          "base_uri": "https://localhost:8080/"
        },
        "id": "0_FOiLlFMWxg",
        "outputId": "3e7121fd-0583-4dba-edd2-4a9317fef899"
      },
      "execution_count": 3,
      "outputs": [
        {
          "output_type": "stream",
          "name": "stdout",
          "text": [
            "Looking in indexes: https://pypi.org/simple, https://us-python.pkg.dev/colab-wheels/public/simple/\n",
            "Requirement already satisfied: lightgbm in /usr/local/lib/python3.7/dist-packages (2.2.3)\n",
            "Requirement already satisfied: scikit-learn in /usr/local/lib/python3.7/dist-packages (from lightgbm) (1.0.2)\n",
            "Requirement already satisfied: scipy in /usr/local/lib/python3.7/dist-packages (from lightgbm) (1.7.3)\n",
            "Requirement already satisfied: numpy in /usr/local/lib/python3.7/dist-packages (from lightgbm) (1.21.6)\n",
            "Requirement already satisfied: joblib>=0.11 in /usr/local/lib/python3.7/dist-packages (from scikit-learn->lightgbm) (1.1.0)\n",
            "Requirement already satisfied: threadpoolctl>=2.0.0 in /usr/local/lib/python3.7/dist-packages (from scikit-learn->lightgbm) (3.1.0)\n"
          ]
        }
      ]
    },
    {
      "cell_type": "code",
      "source": [
        "from google.colab import drive\n",
        "drive.mount('/content/drive')"
      ],
      "metadata": {
        "colab": {
          "base_uri": "https://localhost:8080/"
        },
        "id": "1Ql3Hc33alEm",
        "outputId": "690ede28-73d4-4735-ca17-476df1d0c9bb"
      },
      "execution_count": 5,
      "outputs": [
        {
          "output_type": "stream",
          "name": "stdout",
          "text": [
            "Mounted at /content/drive\n"
          ]
        }
      ]
    },
    {
      "cell_type": "code",
      "source": [
        "!ls \"/content/drive/My Drive/MS\""
      ],
      "metadata": {
        "colab": {
          "base_uri": "https://localhost:8080/"
        },
        "id": "UOx8B4fMavuz",
        "outputId": "a3c65828-f3ce-4efa-d0ef-6580369e4486"
      },
      "execution_count": 6,
      "outputs": [
        {
          "output_type": "stream",
          "name": "stdout",
          "text": [
            "cachedir\t  diemso.csv  houses_prices.csv\t\t pima.joblib.dat\n",
            "dermatology.data  Fold1       incomee.csv\t\t pima.pickle.dat\n",
            "diemsinh.csv\t  Fold2       pima-indians-diabetes.csv\n"
          ]
        }
      ]
    },
    {
      "cell_type": "code",
      "source": [
        "import os\n",
        "import cv2\n",
        "import pandas as pd\n",
        "import numpy as np\n",
        "os.getcwd()\n",
        "os.chdir(\"/content/drive/My Drive/MS\")"
      ],
      "metadata": {
        "id": "msZ47UaqbgLD"
      },
      "execution_count": 7,
      "outputs": []
    },
    {
      "cell_type": "code",
      "source": [
        "# First XGBoost model for Pima Indians dataset\n",
        "from numpy import loadtxt\n",
        "from xgboost import XGBClassifier\n",
        "from sklearn.model_selection import train_test_split\n",
        "from sklearn.metrics import accuracy_score\n",
        "\n",
        "# load data\n",
        "\n",
        "dataset = np.loadtxt(\"pima-indians-diabetes.csv\", delimiter=\",\")\n",
        "dataset = pd.DataFrame(dataset)\n",
        "dataset\n",
        "# split data into X and y\n",
        "\n",
        "X = dataset.iloc[:,0:8]\n",
        "Y = dataset.iloc[:,8]\n",
        "# split data into train and test sets\n",
        "\n",
        "X_train, X_test, y_train, y_test = train_test_split(X, Y, test_size=0.3, random_state=42)\n",
        "print(type(X_train))\n",
        "\n",
        "# fit model on training data\n",
        "model = XGBClassifier()\n",
        "model.fit(X_train, y_train)\n",
        "\n",
        "# make predictions for test data\n",
        "predictions = model.predict(X_test)\n",
        "\n",
        "# evaluate predictions\n",
        "accuracy = accuracy_score(y_test, predictions)\n",
        "print(\"Accuracy: %.2f%%\" % (accuracy * 100.0))"
      ],
      "metadata": {
        "id": "UsIrGCxj2xr-",
        "colab": {
          "base_uri": "https://localhost:8080/"
        },
        "outputId": "2552bb51-ab80-4c16-d0c7-0f013e56fac9"
      },
      "execution_count": 8,
      "outputs": [
        {
          "output_type": "stream",
          "name": "stdout",
          "text": [
            "<class 'pandas.core.frame.DataFrame'>\n",
            "Accuracy: 73.59%\n"
          ]
        }
      ]
    },
    {
      "cell_type": "code",
      "source": [
        "from sklearn.model_selection import KFold\n",
        "from sklearn.model_selection import cross_val_score\n",
        "\n",
        "# CV model\n",
        "kfold = KFold(n_splits=10 , shuffle=False, random_state=None)\n",
        "results = cross_val_score(model, X, Y, cv=kfold)\n",
        "print(\"Accuracy: %.2f%% (%.2f%%)\" % (results.mean()*100, results.std()*100))"
      ],
      "metadata": {
        "id": "X3rwHcGC3i31",
        "colab": {
          "base_uri": "https://localhost:8080/"
        },
        "outputId": "03e0c503-b75c-4c0e-995e-d58403b63ad4"
      },
      "execution_count": 9,
      "outputs": [
        {
          "output_type": "stream",
          "name": "stdout",
          "text": [
            "Accuracy: 73.96% (4.77%)\n"
          ]
        }
      ]
    },
    {
      "cell_type": "code",
      "source": [
        "# stratified k-fold cross validation evaluation of XGBoost model\n",
        "from sklearn.model_selection import StratifiedKFold\n",
        "\n",
        "# CV model\n",
        "kfold = StratifiedKFold(n_splits=10, shuffle=False, random_state=None)\n",
        "results = cross_val_score(model, X, Y, cv=kfold)\n",
        "print(\"Accuracy: %.2f%% (%.2f%%)\" % (results.mean()*100, results.std()*100))"
      ],
      "metadata": {
        "id": "1tBDBc3a3ywa",
        "colab": {
          "base_uri": "https://localhost:8080/"
        },
        "outputId": "17d284e9-3b60-4317-bc81-0b7ef0c9ef2f"
      },
      "execution_count": 10,
      "outputs": [
        {
          "output_type": "stream",
          "name": "stdout",
          "text": [
            "Accuracy: 73.57% (4.39%)\n"
          ]
        }
      ]
    },
    {
      "cell_type": "code",
      "source": [
        "# plot decision tree left to right\n",
        "from xgboost import plot_tree\n",
        "from matplotlib import pyplot\n",
        "\n",
        "# plot single tree\n",
        "plot_tree(model, num_trees=0, rankdir='LR')\n",
        "pyplot.show()"
      ],
      "metadata": {
        "id": "5vOpKmIO2xwM",
        "colab": {
          "base_uri": "https://localhost:8080/",
          "height": 167
        },
        "outputId": "e6e6d490-b9e8-4e15-d5e0-36e456865fa3"
      },
      "execution_count": 11,
      "outputs": [
        {
          "output_type": "display_data",
          "data": {
            "text/plain": [
              "<Figure size 432x288 with 1 Axes>"
            ],
            "image/png": "[encoded data removed]"
          },
          "metadata": {
            "needs_background": "light"
          }
        }
      ]
    },
    {
      "cell_type": "code",
      "source": [
        "plot_tree(model)\n",
        "pyplot.show()"
      ],
      "metadata": {
        "id": "KUbT9PQ548bt",
        "colab": {
          "base_uri": "https://localhost:8080/",
          "height": 128
        },
        "outputId": "f8e514a0-6c51-4325-9743-c05213003ee4"
      },
      "execution_count": 12,
      "outputs": [
        {
          "output_type": "display_data",
          "data": {
            "text/plain": [
              "<Figure size 432x288 with 1 Axes>"
            ],
            "image/png": "[encoded data removed]"
          },
          "metadata": {
            "needs_background": "light"
          }
        }
      ]
    },
    {
      "cell_type": "code",
      "source": [
        "# Train XGBoost model, save to file using joblib, load and make predictions\n",
        "\n",
        "from joblib import dump\n",
        "from joblib import load\n",
        "\n",
        "# save model to file\n",
        "dump(model, \"pima.joblib.dat\")\n",
        "print(\"Saved model to: pima.joblib.dat\")\n",
        "\n",
        "loaded_model = load(\"pima.joblib.dat\")\n",
        "print(\"Loaded model from: pima.joblib.dat\")\n",
        "# make predictions for test data\n",
        "\n",
        "predictions = loaded_model.predict(X_test)\n",
        "# evaluate predictions\n",
        "accuracy = accuracy_score(y_test, predictions)\n",
        "print(\"Accuracy: %.2f%%\" % (accuracy * 100.0))"
      ],
      "metadata": {
        "id": "B0zqqctC5Pvq",
        "colab": {
          "base_uri": "https://localhost:8080/"
        },
        "outputId": "b503f76d-65d8-4f55-9bf8-dd688d4391cd"
      },
      "execution_count": 13,
      "outputs": [
        {
          "output_type": "stream",
          "name": "stdout",
          "text": [
            "Saved model to: pima.joblib.dat\n",
            "Loaded model from: pima.joblib.dat\n",
            "Accuracy: 73.59%\n"
          ]
        }
      ]
    },
    {
      "cell_type": "code",
      "source": [
        "# Train XGBoost model, save to file using pickle, load and make predictions\n",
        "\n",
        "import pickle\n",
        "\n",
        "# save model to file\n",
        "pickle.dump(model, open(\"pima.pickle.dat\", \"wb\"))\n",
        "print(\"Saved model to: pima.pickle.dat\")\n",
        "\n",
        "# load model from file\n",
        "loaded_model = pickle.load(open(\"pima.pickle.dat\", \"rb\"))\n",
        "print(\"Loaded model from: pima.pickle.dat\")\n",
        "# make predictions for test data\n",
        "predictions = loaded_model.predict(X_test)\n",
        "# evaluate predictions\n",
        "accuracy = accuracy_score(y_test, predictions)\n",
        "print(\"Accuracy: %.2f%%\" % (accuracy * 100.0))"
      ],
      "metadata": {
        "id": "gIKGKYhA5Wdy",
        "colab": {
          "base_uri": "https://localhost:8080/"
        },
        "outputId": "23789773-2034-4d30-a7eb-ada015929268"
      },
      "execution_count": 14,
      "outputs": [
        {
          "output_type": "stream",
          "name": "stdout",
          "text": [
            "Saved model to: pima.pickle.dat\n",
            "Loaded model from: pima.pickle.dat\n",
            "Accuracy: 73.59%\n"
          ]
        }
      ]
    },
    {
      "cell_type": "code",
      "source": [
        "# use feature importance for feature selection\n",
        "\n",
        "from numpy import sort\n",
        "from sklearn.model_selection import train_test_split\n",
        "from sklearn.metrics import accuracy_score\n",
        "from sklearn.feature_selection import SelectFromModel\n",
        "\n",
        "# make predictions for test data and evaluate\n",
        "predictions = model.predict(X_test)\n",
        "accuracy = accuracy_score(y_test, predictions)\n",
        "print(\"Accuracy: %.2f%%\" % (accuracy * 100.0))\n",
        "# Fit model using each importance as a threshold\n",
        "\n",
        "thresholds = sort(model.feature_importances_)\n",
        "\n",
        "for thresh in thresholds:\n",
        "\t# select features using threshold\n",
        "\tselection = SelectFromModel(model, threshold=thresh, prefit=True)\n",
        "\tselect_X_train = selection.transform(X_train)\n",
        "\t# train model\n",
        "\tselection_model = XGBClassifier()\n",
        "\tselection_model.fit(select_X_train, y_train)\n",
        "\t# eval model\n",
        "\tselect_X_test = selection.transform(X_test)\n",
        "\tpredictions = selection_model.predict(select_X_test)\n",
        "\taccuracy = accuracy_score(y_test, predictions)\n",
        "\tprint(\"Thresh=%.3f, n=%d, Accuracy: %.2f%%\" % (thresh, select_X_train.shape[1], accuracy*100.0))"
      ],
      "metadata": {
        "id": "6euyN-ya5QUj",
        "colab": {
          "base_uri": "https://localhost:8080/"
        },
        "outputId": "5f73f2dc-de47-4612-83dd-8cc68d6b9a95"
      },
      "execution_count": 15,
      "outputs": [
        {
          "output_type": "stream",
          "name": "stdout",
          "text": [
            "Accuracy: 73.59%\n",
            "Thresh=0.074, n=8, Accuracy: 73.59%\n",
            "Thresh=0.080, n=7, Accuracy: 75.76%\n",
            "Thresh=0.089, n=6, Accuracy: 70.56%\n",
            "Thresh=0.101, n=5, Accuracy: 68.83%\n",
            "Thresh=0.104, n=4, Accuracy: 69.26%\n",
            "Thresh=0.133, n=3, Accuracy: 68.40%\n",
            "Thresh=0.142, n=2, Accuracy: 72.73%\n",
            "Thresh=0.276, n=1, Accuracy: 68.83%\n"
          ]
        }
      ]
    },
    {
      "cell_type": "code",
      "source": [
        "\n",
        "from xgboost import plot_importance\n",
        "# plot feature importance\n",
        "plot_importance(model)\n",
        "pyplot.show()"
      ],
      "metadata": {
        "id": "4W_A-uEC9_AU",
        "colab": {
          "base_uri": "https://localhost:8080/",
          "height": 295
        },
        "outputId": "c2ca15b6-63cd-4eb9-b410-60a93c7b783b"
      },
      "execution_count": 16,
      "outputs": [
        {
          "output_type": "display_data",
          "data": {
            "text/plain": [
              "<Figure size 432x288 with 1 Axes>"
            ],
            "image/png": "[encoded data removed]"
          },
          "metadata": {
            "needs_background": "light"
          }
        }
      ]
    },
    {
      "cell_type": "code",
      "source": [
        "print(model.feature_importances_)\n",
        "pyplot.bar(range(len(model.feature_importances_)), model.feature_importances_)\n",
        "pyplot.show()"
      ],
      "metadata": {
        "id": "CmY3JLL8-Ki2",
        "colab": {
          "base_uri": "https://localhost:8080/",
          "height": 300
        },
        "outputId": "810fd4f3-796b-47b8-c900-3c7d94ed39ea"
      },
      "execution_count": 17,
      "outputs": [
        {
          "output_type": "stream",
          "name": "stdout",
          "text": [
            "[0.10414954 0.2764241  0.08880962 0.07448252 0.10096792 0.14167249\n",
            " 0.08007624 0.13341755]\n"
          ]
        },
        {
          "output_type": "display_data",
          "data": {
            "text/plain": [
              "<Figure size 432x288 with 1 Axes>"
            ],
            "image/png": "[encoded data removed]"
          },
          "metadata": {
            "needs_background": "light"
          }
        }
      ]
    }
  ]
}