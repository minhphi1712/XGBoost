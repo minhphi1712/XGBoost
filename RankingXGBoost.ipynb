{
  "nbformat": 4,
  "nbformat_minor": 0,
  "metadata": {
    "colab": {
      "name": "Demo2.ipynb",
      "provenance": []
    },
    "kernelspec": {
      "name": "python3",
      "display_name": "Python 3"
    },
    "language_info": {
      "name": "python"
    }
  },
  "cells": [
    {
      "cell_type": "code",
      "execution_count": 1,
      "metadata": {
        "colab": {
          "base_uri": "https://localhost:8080/"
        },
        "id": "AdlTUdn2JKWI",
        "outputId": "8765ff4e-cdac-43b4-8a11-b6691dd343c8"
      },
      "outputs": [
        {
          "output_type": "stream",
          "name": "stdout",
          "text": [
            "Looking in indexes: https://pypi.org/simple, https://us-python.pkg.dev/colab-wheels/public/simple/\n",
            "Requirement already satisfied: xgboost in /usr/local/lib/python3.7/dist-packages (0.90)\n",
            "Requirement already satisfied: numpy in /usr/local/lib/python3.7/dist-packages (from xgboost) (1.21.6)\n",
            "Requirement already satisfied: scipy in /usr/local/lib/python3.7/dist-packages (from xgboost) (1.7.3)\n"
          ]
        }
      ],
      "source": [
        "!pip install xgboost"
      ]
    },
    {
      "cell_type": "code",
      "source": [
        "from google.colab import drive\n",
        "drive.mount('/content/drive')"
      ],
      "metadata": {
        "colab": {
          "base_uri": "https://localhost:8080/"
        },
        "id": "d2FwGYx-JM7-",
        "outputId": "1683c2b2-935d-4726-f144-6a65d679631e"
      },
      "execution_count": 2,
      "outputs": [
        {
          "output_type": "stream",
          "name": "stdout",
          "text": [
            "Mounted at /content/drive\n"
          ]
        }
      ]
    },
    {
      "cell_type": "code",
      "source": [
        "!ls \"/content/drive/My Drive/MS/Fold1\""
      ],
      "metadata": {
        "colab": {
          "base_uri": "https://localhost:8080/"
        },
        "id": "YjGGQBiNJM-U",
        "outputId": "2dcecc4f-51b6-4459-b1e8-3b7a916e90f1"
      },
      "execution_count": 3,
      "outputs": [
        {
          "output_type": "stream",
          "name": "stdout",
          "text": [
            "mq2008.test\t   mq2008.train        mq2008.vali\t  test.txt   vali.txt\n",
            "mq2008.test.group  mq2008.train.group  mq2008.vali.group  train.txt\n"
          ]
        }
      ]
    },
    {
      "cell_type": "code",
      "source": [
        "import os\n",
        "os.getcwd()\n",
        "os.chdir(\"/content/drive/My Drive/MS/Fold1\")"
      ],
      "metadata": {
        "id": "xBK0uB0pJNAl"
      },
      "execution_count": 4,
      "outputs": []
    },
    {
      "cell_type": "code",
      "source": [
        "import xgboost as xgb\n",
        "from sklearn.datasets import load_svmlight_file\n",
        "\n",
        "x_train, y_train = load_svmlight_file(\"mq2008.train\")\n",
        "x_valid, y_valid = load_svmlight_file(\"mq2008.vali\")\n",
        "x_test, y_test = load_svmlight_file(\"mq2008.test\")\n",
        "\n",
        "group_train = []\n",
        "with open(\"mq2008.train.group\", \"r\") as f:\n",
        "    data = f.readlines()\n",
        "    for line in data:\n",
        "        group_train.append(int(line.split(\"\\n\")[0]))\n",
        "\n",
        "group_valid=[]\n",
        "with open(\"mq2008.vali.group\", \"r\") as f:\n",
        "    data = f.readlines()\n",
        "    for line in data:\n",
        "        group_valid.append(int(line.split(\"\\n\")[0]))\n",
        "\n",
        "group_test = []\n",
        "with open(\"mq2008.test.group\", \"r\") as f:\n",
        "    data = f.readlines()\n",
        "    for line in data:\n",
        "        group_test.append(int(line.split(\"\\n\")[0]))\n",
        "\n",
        "params = {'objective': 'rank:ndcg', 'learning_rate': 0.1,\n",
        "          'gamma': 1.0, 'min_child_weight': 0.1,\n",
        "          'max_depth': 6, 'n_estimators': 4}\n",
        "model = xgb.sklearn.XGBRanker(**params)\n",
        "model.fit(x_train, y_train, group_train, verbose=True,\n",
        "          eval_set=[(x_valid, y_valid)], eval_group=[group_valid])\n",
        "pred = model.predict(x_test)\n"
      ],
      "metadata": {
        "colab": {
          "base_uri": "https://localhost:8080/"
        },
        "id": "1Sh1ytkCJNCc",
        "outputId": "c3d313b0-0bd6-43f5-f497-0c25fb433f8a"
      },
      "execution_count": 5,
      "outputs": [
        {
          "output_type": "stream",
          "name": "stdout",
          "text": [
            "[0]\teval_0-map:0.707814\n",
            "[1]\teval_0-map:0.709222\n",
            "[2]\teval_0-map:0.7082\n",
            "[3]\teval_0-map:0.714009\n"
          ]
        }
      ]
    }
  ]
}